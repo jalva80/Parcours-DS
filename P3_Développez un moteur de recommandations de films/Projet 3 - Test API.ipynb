{
 "cells": [
  {
   "cell_type": "code",
   "execution_count": 1,
   "metadata": {},
   "outputs": [],
   "source": [
    "import requests"
   ]
  },
  {
   "cell_type": "code",
   "execution_count": 2,
   "metadata": {},
   "outputs": [
    {
     "name": "stdout",
     "output_type": "stream",
     "text": [
      "b\"{'_request': {'id': '401729', 'name': 'John Carter'}, '_results': [{'id': '1631867', 'name': 'Edge of Tomorrow'}, {'id': '185183', 'name': 'Battlefield Earth'}, {'id': '116629', 'name': 'Independence Day'}, {'id': '1628841', 'name': 'Independence Day: Resurgence'}, {'id': '90605', 'name': 'Aliens'}]}\" \n",
      "\n",
      "b'Erreur - veuillez v\\xc3\\xa9rifier que votre url est de la forme\\n                    https://oc-jalvarez-p3.herokuapp.com/recommend/{ID_FILM},\\n                    o\\xc3\\xb9 {ID_FILM} figure dans la base de films' \n",
      "\n",
      "b\"{'_request': {'id': '1477109', 'name': 'Space Battleship Yamato'}, '_results': [{'id': '2304933', 'name': 'The 5th Wave'}, {'id': '96754', 'name': 'The Abyss'}, {'id': '296572', 'name': 'The Chronicles of Riddick'}, {'id': '120844', 'name': 'Star Trek: Insurrection'}, {'id': '1592525', 'name': 'Lockout'}]}\" \n",
      "\n",
      "b\"{'_request': {'id': '839938', 'name': 'Out of the Blue'}, '_results': [{'id': '2101441', 'name': 'Spring Breakers'}, {'id': '300140', 'name': 'Lilya 4-Ever'}, {'id': '94291', 'name': 'Wall Street'}, {'id': '490087', 'name': 'Black Water Transit'}, {'id': '451094', 'name': 'Lady Vengeance'}]}\" \n",
      "\n"
     ]
    }
   ],
   "source": [
    "test_ids = [401729, 14771, 1477109, 839938]\n",
    "for movie_id in test_ids:\n",
    "    r = requests.get(\"https://oc-jalvarez-p3.herokuapp.com/recommend/{}\".format(movie_id))\n",
    "    print(r.content, '\\n')"
   ]
  }
 ],
 "metadata": {
  "kernelspec": {
   "display_name": "Python 3",
   "language": "python",
   "name": "python3"
  },
  "language_info": {
   "codemirror_mode": {
    "name": "ipython",
    "version": 3
   },
   "file_extension": ".py",
   "mimetype": "text/x-python",
   "name": "python",
   "nbconvert_exporter": "python",
   "pygments_lexer": "ipython3",
   "version": "3.7.0"
  }
 },
 "nbformat": 4,
 "nbformat_minor": 2
}
