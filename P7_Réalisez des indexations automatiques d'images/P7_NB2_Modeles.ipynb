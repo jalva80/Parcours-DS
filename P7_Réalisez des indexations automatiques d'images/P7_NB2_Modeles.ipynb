{
  "nbformat": 4,
  "nbformat_minor": 0,
  "metadata": {
    "colab": {
      "name": "P7_NB2.ipynb",
      "provenance": [],
      "collapsed_sections": [],
      "machine_shape": "hm"
    },
    "kernelspec": {
      "name": "python3",
      "display_name": "Python 3"
    },
    "accelerator": "GPU"
  },
  "cells": [
    {
      "cell_type": "markdown",
      "metadata": {
        "id": "iuIadNyNWvtK",
        "colab_type": "text"
      },
      "source": [
        "# Projet 7 - Réalisez des indexations automatiques d'images\n",
        "\n",
        "https://docs.opencv.org/3.4.3/d6/d00/tutorial_py_root.html"
      ]
    },
    {
      "cell_type": "markdown",
      "metadata": {
        "id": "GrrmWrUdW5rv",
        "colab_type": "text"
      },
      "source": [
        "## Initialisation"
      ]
    },
    {
      "cell_type": "markdown",
      "metadata": {
        "id": "9iex7ZO-dPcg",
        "colab_type": "text"
      },
      "source": [
        "#### drive Google"
      ]
    },
    {
      "cell_type": "code",
      "metadata": {
        "id": "cO4VWWHGW-lw",
        "colab_type": "code",
        "outputId": "8d1d67ea-81eb-46c2-e300-b19f5167acb7",
        "colab": {
          "base_uri": "https://localhost:8080/",
          "height": 35
        }
      },
      "source": [
        "from google.colab import drive\n",
        "drive.mount('/content/gdrive')"
      ],
      "execution_count": 0,
      "outputs": [
        {
          "output_type": "stream",
          "text": [
            "Mounted at /content/gdrive\n"
          ],
          "name": "stdout"
        }
      ]
    },
    {
      "cell_type": "markdown",
      "metadata": {
        "id": "J_rMmKyFdL1T",
        "colab_type": "text"
      },
      "source": [
        "#### Librairies"
      ]
    },
    {
      "cell_type": "code",
      "metadata": {
        "id": "LnGWrydOXHug",
        "colab_type": "code",
        "colab": {}
      },
      "source": [
        "import os\n",
        "# Import the `pandas` library as `pd`\n",
        "import pandas as pd\n",
        "# Import the `numpy` library as `np`\n",
        "import numpy as np\n",
        "# import OpenCV library as cv2\n",
        "import cv2 as cv2\n",
        "\n",
        "import gc\n",
        "\n",
        "import seaborn as sns\n",
        "sns.set()\n",
        "\n",
        "# Import patch for image show of OpenCV\n",
        "from google.colab.patches import cv2_imshow\n",
        "# Import pyplot from matplotlib as plt\n",
        "from matplotlib import pyplot as plt\n",
        "# Import joblib functions for save and load\n",
        "from joblib import dump, load\n",
        "# Librairie Scikit-Learn\n",
        "from sklearn.cluster import KMeans\n",
        "from sklearn.neighbors import NearestNeighbors\n",
        "from sklearn.pipeline import Pipeline\n",
        "\n",
        "from sklearn.model_selection import train_test_split\n",
        "\n",
        "\n",
        "from shutil import copy\n",
        "\n",
        "from time import time\n",
        "from sklearn import svm\n",
        "from sklearn.model_selection import GridSearchCV"
      ],
      "execution_count": 0,
      "outputs": []
    },
    {
      "cell_type": "code",
      "metadata": {
        "id": "YgpgO9kc7RMU",
        "colab_type": "code",
        "colab": {}
      },
      "source": [
        "from sklearn.metrics import classification_report, confusion_matrix, accuracy_score\n",
        "\n",
        "from sklearn.utils.multiclass import unique_labels"
      ],
      "execution_count": 0,
      "outputs": []
    },
    {
      "cell_type": "code",
      "metadata": {
        "id": "_OnMFpm0DjRN",
        "colab_type": "code",
        "colab": {}
      },
      "source": [
        "import shutil"
      ],
      "execution_count": 0,
      "outputs": []
    },
    {
      "cell_type": "code",
      "metadata": {
        "id": "r6kRCKYP_YX5",
        "colab_type": "code",
        "colab": {}
      },
      "source": [
        "from keras.applications.vgg16 import VGG16\n",
        "from keras.layers import Dropout, Flatten, Dense\n",
        "from keras.models import Model, Sequential, load_model\n",
        "from keras import optimizers\n",
        "from keras.preprocessing.image import ImageDataGenerator\n",
        "from keras.callbacks import ModelCheckpoint, EarlyStopping\n",
        "  \n",
        "import h5py"
      ],
      "execution_count": 0,
      "outputs": []
    },
    {
      "cell_type": "markdown",
      "metadata": {
        "id": "PC_pE60E-BoO",
        "colab_type": "text"
      },
      "source": [
        "#### Contexte de mémoire"
      ]
    },
    {
      "cell_type": "code",
      "metadata": {
        "id": "98upzAYI8c9V",
        "colab_type": "code",
        "colab": {}
      },
      "source": [
        "# cache directory for joblib objects\n",
        "folder = \"/content/gdrive/My Drive/Colab Notebooks/P7 - Classif chiens/joblib_memmap\"\n",
        "\n",
        "# str_dir_gray = \"/content/gdrive/My Drive/Colab Notebooks/P7 - Classif chiens/preprocess/step_to_gray/\"\n",
        "# str_dir_blur = \"/content/gdrive/My Drive/Colab Notebooks/P7 - Classif chiens/preprocess/step_to_blur/\"\n",
        "# str_dir_size = \"/content/gdrive/My Drive/Colab Notebooks/P7 - Classif chiens/preprocess/step_to_size/\"\n",
        "# str_dir_raw = \"/content/gdrive/My Drive/Colab Notebooks/P7 - Classif chiens/raw/\"\n",
        "str_dir_preprocessed = \"/content/gdrive/My Drive/Colab Notebooks/P7 - Classif chiens/preprocessed/\"\n",
        "folders = [\n",
        "#     folder,\n",
        "#            str_dir_gray,\n",
        "#            str_dir_blur,\n",
        "#            str_dir_size,\n",
        "#            str_dir_raw,\n",
        "           str_dir_preprocessed\n",
        "          ]"
      ],
      "execution_count": 0,
      "outputs": []
    },
    {
      "cell_type": "code",
      "metadata": {
        "id": "WNvWAUiAJ8Dj",
        "colab_type": "code",
        "colab": {}
      },
      "source": [
        "def init_mem():\n",
        "  for fold in folders:\n",
        "    shutil.rmtree(fold, ignore_errors=True, onerror=None)\n",
        "    try:      \n",
        "      os.mkdir(fold)\n",
        "    except FileExistsError:\n",
        "        pass"
      ],
      "execution_count": 0,
      "outputs": []
    },
    {
      "cell_type": "markdown",
      "metadata": {
        "id": "UM40qVfdXEu9",
        "colab_type": "text"
      },
      "source": [
        "## Exploration"
      ]
    },
    {
      "cell_type": "code",
      "metadata": {
        "id": "2DBX9Dstc-mT",
        "colab_type": "code",
        "outputId": "7a9703d1-f6ed-45a4-c7d4-c1c45b46fb5f",
        "colab": {
          "base_uri": "https://localhost:8080/",
          "height": 35
        }
      },
      "source": [
        "str_directory = \"/content/gdrive/My Drive/Colab Notebooks/P7 - Classif chiens/base/Images/\"\n",
        "dirs = sorted(os.listdir(str_directory))\n",
        "print(\"il y a {} races à classifier.\".format(len(dirs)))"
      ],
      "execution_count": 0,
      "outputs": [
        {
          "output_type": "stream",
          "text": [
            "il y a 120 races à classifier.\n"
          ],
          "name": "stdout"
        }
      ]
    },
    {
      "cell_type": "code",
      "metadata": {
        "id": "y_gau8dD80ah",
        "colab_type": "code",
        "colab": {}
      },
      "source": [
        "target_names = []\n",
        "for dir in dirs: \n",
        "  ref, name = (dir.split('-', 1 ))\n",
        "  target_names.append(name)\n",
        "#   print(ref, name)"
      ],
      "execution_count": 0,
      "outputs": []
    },
    {
      "cell_type": "code",
      "metadata": {
        "id": "XAUtWQOn9XlJ",
        "colab_type": "code",
        "colab": {}
      },
      "source": [
        "# cache directory for joblib objects\n",
        "folder = \"/content/gdrive/My Drive/Colab Notebooks/P7 - Classif chiens/joblib_memmap\"\n",
        "try:\n",
        "    os.mkdir(folder)\n",
        "except FileExistsError:\n",
        "    pass"
      ],
      "execution_count": 0,
      "outputs": []
    },
    {
      "cell_type": "code",
      "metadata": {
        "id": "m4QE2zsh9xJq",
        "colab_type": "code",
        "outputId": "8e433936-c5d6-415f-8010-d6840973c50c",
        "colab": {
          "base_uri": "https://localhost:8080/",
          "height": 35
        }
      },
      "source": [
        "data_filename_memmap = os.path.join(folder, 'target')\n",
        "dump(target_names, data_filename_memmap)"
      ],
      "execution_count": 0,
      "outputs": [
        {
          "output_type": "execute_result",
          "data": {
            "text/plain": [
              "['/content/gdrive/My Drive/Colab Notebooks/P7 - Classif chiens/joblib_memmap/target']"
            ]
          },
          "metadata": {
            "tags": []
          },
          "execution_count": 52
        }
      ]
    },
    {
      "cell_type": "markdown",
      "metadata": {
        "id": "kRmClTZirKQL",
        "colab_type": "text"
      },
      "source": [
        "#### Train_test split"
      ]
    },
    {
      "cell_type": "code",
      "metadata": {
        "id": "iLnBOB3vWq6F",
        "colab_type": "code",
        "colab": {}
      },
      "source": [
        "def train_test_function(nb_races):\n",
        "  # on construit liste fichiers et classe correspondante dans deux listes:\n",
        "  X = []\n",
        "  y = []\n",
        "\n",
        "  for dir in dirs[:nb_races]:\n",
        "    dir_path = str_directory + dir + '/'\n",
        "    for file in sorted(os.listdir(dir_path)):\n",
        "      X.append(dir_path + file)\n",
        "      y.append(file.split('_')[0])  \n",
        "\n",
        "#   n_classes = len(y)\n",
        "#   print(\"il y a {} classes\".format(n_classes))\n",
        "  target_names = list(unique_labels(y))\n",
        "  y = [target_names.index(x) for x in y]\n",
        "  \n",
        "  X_train, X_test, y_train, y_test = train_test_split(X, y, test_size=0.2, random_state=0)\n",
        "  X_train_cnn, X_val_cnn, y_train_cnn, y_val_cnn = train_test_split(X_train, y_train,\n",
        "                                                                    test_size=0.25,\n",
        "                                                                    random_state=0)\n",
        "  \n",
        "  # plot with various axes scales\n",
        "  plt.figure(figsize=(18, 7))\n",
        "\n",
        "  # y\n",
        "  plt.subplot(231)\n",
        "  plt.hist(y, bins=nb_races)\n",
        "  plt.title('global')\n",
        "  \n",
        "  # train\n",
        "  plt.subplot(232)\n",
        "  plt.hist(y_train, bins=nb_races)\n",
        "  plt.title('train')\n",
        "  \n",
        "  # test\n",
        "  plt.subplot(233)\n",
        "  plt.hist(y_test, bins=nb_races)\n",
        "  plt.title('test')\n",
        "\n",
        "  # train CNN\n",
        "  plt.subplot(235)\n",
        "  plt.hist(y_train_cnn, bins=nb_races)\n",
        "  plt.title('train CNN')\n",
        "  \n",
        "  # val CNN\n",
        "  plt.subplot(236)\n",
        "  plt.hist(y_val_cnn, bins=nb_races)\n",
        "  plt.title('validation CNN')\n",
        "\n",
        "  plt.show()\n",
        "  \n",
        "  return X_train, X_test, y_train, y_test, X_train_cnn, X_val_cnn, y_train_cnn, y_val_cnn, target_names"
      ],
      "execution_count": 0,
      "outputs": []
    },
    {
      "cell_type": "code",
      "metadata": {
        "id": "_bUsu7fvoEiH",
        "colab_type": "code",
        "colab": {}
      },
      "source": [
        ""
      ],
      "execution_count": 0,
      "outputs": []
    },
    {
      "cell_type": "markdown",
      "metadata": {
        "id": "auZaDEYo4NdZ",
        "colab_type": "text"
      },
      "source": [
        "### resizing"
      ]
    },
    {
      "cell_type": "code",
      "metadata": {
        "id": "EHIH4EEvuBZP",
        "colab_type": "code",
        "colab": {}
      },
      "source": [
        "def copy_raw_images(nb_races):\n",
        "  \"\"\" Copie des images d'origine dans un répertoire de départ\n",
        "  \n",
        "  nb_races: nombre de races (répertoires) utilisés\n",
        "  \n",
        "  renvoie: None\n",
        "  \"\"\"\n",
        "  for dir in dirs[:nb_races]:\n",
        "    dir_path = str_directory + dir + '/'\n",
        "    for file in sorted(os.listdir(dir_path)):\n",
        "      copy(src = dir_path + file, dst = str_dir_raw)\n",
        "      \n",
        "def conv_to_gray(img):\n",
        "  \"\"\" Conversion de l'image couleur -> niveaux de gris\n",
        "  \n",
        "  img: image à traiter\n",
        "  \n",
        "  renvoie: une image en niveaux de gris\n",
        "  \"\"\"\n",
        "  gray = cv2.cvtColor(img,cv2.COLOR_BGR2GRAY)\n",
        "  return gray\n",
        "\n",
        "def conv_resize(img):\n",
        "  \"\"\" Redimensionnement de l'image\n",
        "  \n",
        "  img: image à traiter\n",
        "  \n",
        "  renvoie: une image aux dimensions standardisées\n",
        "  \"\"\"\n",
        "  standard_size = (500, 375)\n",
        "  return cv2.resize(img, standard_size)\n",
        "\n",
        "def conv_blur(img, filter_size=1):\n",
        "  \"\"\" Filtre gaussien\n",
        "  \n",
        "  img: image à traiter\n",
        "  filter_size: taille du filtre (doit être un entier impair)\n",
        "  \n",
        "  renvoie: une image   \n",
        "  \"\"\"\n",
        "  return cv2.GaussianBlur(img,     # image à traiter\n",
        "                          ksize=(filter_size,filter_size),    # Gaussian kernel size\n",
        "                          sigmaX=0)"
      ],
      "execution_count": 0,
      "outputs": []
    },
    {
      "cell_type": "markdown",
      "metadata": {
        "id": "kd7BiNyyKCHG",
        "colab_type": "text"
      },
      "source": [
        ""
      ]
    },
    {
      "cell_type": "code",
      "metadata": {
        "id": "XP5PoQWyKBL-",
        "colab_type": "code",
        "colab": {}
      },
      "source": [
        "def preprocess_fct(X, filt_size):\n",
        "  \"\"\" fonction de préprocessing\n",
        "  filt_sizes: taille du filtre gaussien\n",
        "  \n",
        "  renvoie: None\n",
        "  \"\"\"\n",
        "  for file in X:    \n",
        "    img = cv2.imread(file)\n",
        "\n",
        "    gray_img = conv_to_gray(img)\n",
        "    resize_img = conv_resize(gray_img)\n",
        "    blur_img = conv_blur(resize_img, filt_size)\n",
        "\n",
        "    cv2.imwrite(str_dir_preprocessed + file.split('/')[-1], blur_img)\n",
        "  "
      ],
      "execution_count": 0,
      "outputs": []
    },
    {
      "cell_type": "code",
      "metadata": {
        "id": "Ml_im94VKSXH",
        "colab_type": "code",
        "colab": {}
      },
      "source": [
        ""
      ],
      "execution_count": 0,
      "outputs": []
    },
    {
      "cell_type": "markdown",
      "metadata": {
        "id": "AS6_q7z9Vdf7",
        "colab_type": "text"
      },
      "source": [
        "## Méthode 1: apprentissage supervisé\n",
        "https://openclassrooms.com/fr/courses/4470531-classez-et-segmentez-des-donnees-visuelles/5072281-utilisez-ces-features-pour-classifier-des-images\n",
        "\n"
      ]
    },
    {
      "cell_type": "markdown",
      "metadata": {
        "id": "i1v2g90nWfqj",
        "colab_type": "text"
      },
      "source": [
        "### 1.Extraction des features - méthode ORB\n",
        "détection et description des features\n",
        "https://docs.opencv.org/3.4.3/d1/d89/tutorial_py_orb.html\n",
        "http://www.willowgarage.com/sites/default/files/orb_final.pdf\n",
        "\n",
        "basé sur le détecteur de point-clés FAST et le descripteur BRIEF\n"
      ]
    },
    {
      "cell_type": "code",
      "metadata": {
        "id": "Ly2-ZxddWiim",
        "colab_type": "code",
        "colab": {}
      },
      "source": [
        ""
      ],
      "execution_count": 0,
      "outputs": []
    },
    {
      "cell_type": "code",
      "metadata": {
        "id": "zOz3lBWNkE2m",
        "colab_type": "code",
        "colab": {}
      },
      "source": [
        "# # files = sorted(os.listdir(str_dir_blur))\n",
        "# for file in X_train[:5]:\n",
        "#   img = cv2.imread(str_dir_preprocessed + file,0)\n",
        "\n",
        "#   # Initiate ORB detector\n",
        "#   orb = cv2.ORB_create()\n",
        "#   # find the keypoints with ORB\n",
        "#   kp = orb.detect(img,None)\n",
        "#   # compute the descriptors with ORB\n",
        "#   kp, des = orb.compute(img, kp)\n",
        "#   # draw only keypoints location,not size and orientation\n",
        "#   img2 = cv2.drawKeypoints(img, kp, None, color=(0,255,0), flags=0)\n",
        "#   plt.figure(figsize=(10,6))\n",
        "#   plt.imshow(img2)\n",
        "#   plt.show()"
      ],
      "execution_count": 0,
      "outputs": []
    },
    {
      "cell_type": "markdown",
      "metadata": {
        "id": "euYk5Lf2yGJ6",
        "colab_type": "text"
      },
      "source": [
        "### Feature matching\n",
        "Brute-Force Matcher"
      ]
    },
    {
      "cell_type": "code",
      "metadata": {
        "id": "ukkHn0mUhlrV",
        "colab_type": "code",
        "colab": {}
      },
      "source": [
        "# for i in range(5):\n",
        "#   img1 = cv2.imread(str_dir_preprocessed + X_train[i],0)\n",
        "#   img2 = cv2.imread(str_dir_preprocessed + X_train[i+1],0)\n",
        "\n",
        "#   # find the keypoints and descriptors with ORB\n",
        "#   kp1, des1 = orb.detectAndCompute(img1,None)\n",
        "#   kp2, des2 = orb.detectAndCompute(img2,None)\n",
        "\n",
        "#   # create BFMatcher object\n",
        "#   bf = cv2.BFMatcher(cv2.NORM_HAMMING, crossCheck=True)\n",
        "#   # Match descriptors.\n",
        "#   matches = bf.match(des1,des2)\n",
        "#   # Sort them in the order of their distance.\n",
        "#   matches = sorted(matches, key = lambda x:x.distance)\n",
        "#   # Draw first 10 matches.\n",
        "#   img3 = cv2.drawMatches(img1,kp1,img2,kp2,matches[:20], None,flags=0)\n",
        "#   plt.figure(figsize=(12,10))\n",
        "#   plt.imshow(img3),plt.show()"
      ],
      "execution_count": 0,
      "outputs": []
    },
    {
      "cell_type": "markdown",
      "metadata": {
        "id": "JRQApqQP0cg3",
        "colab_type": "text"
      },
      "source": [
        "FLANN based Matcher"
      ]
    },
    {
      "cell_type": "code",
      "metadata": {
        "id": "C-tXniBghlyl",
        "colab_type": "code",
        "colab": {}
      },
      "source": [
        ""
      ],
      "execution_count": 0,
      "outputs": []
    },
    {
      "cell_type": "code",
      "metadata": {
        "id": "1cc-51510gl1",
        "colab_type": "code",
        "colab": {}
      },
      "source": [
        "# # FLANN parameters\n",
        "# FLANN_INDEX_LSH = 6\n",
        "# index_params= dict(algorithm = FLANN_INDEX_LSH,\n",
        "#                    table_number = 6, # 12\n",
        "#                    key_size = 12,     # 20\n",
        "#                    multi_probe_level = 1) #2\n",
        "\n",
        "# search_params = dict(checks=50)   # or pass empty dictionary\n",
        "# flann = cv2.FlannBasedMatcher(index_params,search_params)\n",
        "\n",
        "# for i in range(5):\n",
        "#   img1 = cv2.imread(str_dir_preprocessed + X_train[i],0)\n",
        "#   img2 = cv2.imread(str_dir_preprocessed + X_train[i+1],0)\n",
        "\n",
        "#   # find the keypoints and descriptors with ORB\n",
        "#   kp1, des1 = orb.detectAndCompute(img1,None)\n",
        "#   kp2, des2 = orb.detectAndCompute(img2,None)\n",
        "#   matches = flann.knnMatch(des1,des2,k=2)\n",
        "#   # Need to draw only good matches, so create a mask\n",
        "#   matchesMask = [[0,0] for i in range(len(matches))]\n",
        "#   # ratio test as per Lowe's paper\n",
        "#   try:\n",
        "#     for i,(m,n) in enumerate(matches):\n",
        "# #       print(i, m.distance, n.distance)\n",
        "#       if m.distance < 0.7*n.distance:\n",
        "#         matchesMask[i]=[1,0]\n",
        "#   except:\n",
        "#     continue\n",
        "    \n",
        "#   draw_params = dict(matchColor = (0,255,0),\n",
        "#                      singlePointColor = (255,0,0),\n",
        "#                      matchesMask = matchesMask,\n",
        "#                      flags = 0)\n",
        "#   img3 = cv2.drawMatchesKnn(img1,kp1,img2,kp2,matches,None,**draw_params)\n",
        "#   plt.figure(figsize=(12,10))\n",
        "#   plt.imshow(img3,),plt.show()"
      ],
      "execution_count": 0,
      "outputs": []
    },
    {
      "cell_type": "markdown",
      "metadata": {
        "id": "TAu4qJL7Wixr",
        "colab_type": "text"
      },
      "source": [
        "### 2.Création des bag-of-features\n",
        "vecteur créé en deux temps : d'abord, on crée les \"visual words\", puis on construit un histogramme. \n",
        "#### Création des visual words\n",
        "Pour créer le \"dictionnaire\" de visual words, il suffit d'appliquer un algorithme de clustering aux descripteurs de features construits à l'étape 1, comme le k-means. Les visual words correspondent alors aux centres des clusters trouvés.\n"
      ]
    },
    {
      "cell_type": "code",
      "metadata": {
        "id": "VN_xKv1vWndG",
        "colab_type": "code",
        "colab": {}
      },
      "source": [
        "def create_dict(X, dictionarySize = 50):\n",
        "  \"\"\" Fonction qui créée le dictionnaire de visual words\n",
        "  \n",
        "  renvoie: dictionnaire\n",
        "  \"\"\"\n",
        "  # Initiate ORB detector\n",
        "  orb = cv2.ORB_create()\n",
        "  # Initiate BOW K Means Trainer\n",
        "  bow = cv2.BOWKMeansTrainer(dictionarySize)\n",
        "\n",
        "  # files = sorted(os.listdir(str_dir_blur))\n",
        "  for file in X:\n",
        "    img = cv2.imread(str_dir_preprocessed + file.split('/')[-1],0)\n",
        "\n",
        "    # find the keypoints and compute the descriptors with ORB\n",
        "    kp, des  = orb.detectAndCompute(img,None)\n",
        "\n",
        "    bow.add(np.float32(des))\n",
        "\n",
        "  #dictionary created\n",
        "  dictionary = bow.cluster()\n",
        "  \n",
        "  return dictionary"
      ],
      "execution_count": 0,
      "outputs": []
    },
    {
      "cell_type": "code",
      "metadata": {
        "id": "7v8AO7dwX2BY",
        "colab_type": "code",
        "colab": {}
      },
      "source": [
        ""
      ],
      "execution_count": 0,
      "outputs": []
    },
    {
      "cell_type": "markdown",
      "metadata": {
        "id": "Yutg-Z8TWnwe",
        "colab_type": "text"
      },
      "source": [
        "#### Construction de l'histogramme\n",
        "Il reste à décrire les images en fonction de ces visual words. Pour chaque image, on crée un histogramme qui indique la fréquence d'apparition de chaque visual word dans l'image\n",
        "\n",
        "Finalement, le bag-of-features d'une image est le vecteur dans lequel on a stocké les valeurs de l'histogramme et qu'on a normalisé (en divisant par la norme euclidienne). \n",
        "\n"
      ]
    },
    {
      "cell_type": "code",
      "metadata": {
        "id": "qPzNwrbEXguE",
        "colab_type": "code",
        "colab": {}
      },
      "source": [
        "\n",
        "# orb2 = cv2.ORB_create()\n",
        "# # orb2 = cv2.ORB_create(nfeatures=50)\n",
        "\n",
        "# fbm_index_params = dict(algorithm = FLANN_INDEX_LSH,\n",
        "#                    table_number = 12,\n",
        "#                    key_size = 20,\n",
        "#                    multi_probe_level = 2)\n",
        "\n",
        "# fbm_search_params = dict(checks=50)\n",
        "\n",
        "# fbm_matcher = cv2.FlannBasedMatcher(fbm_index_params,\n",
        "#                                     fbm_search_params\n",
        "#                                    )\n",
        "# # fbm_matcher = cv2.FlannBasedMatcher(cv2.NORM_HAMMING\n",
        "# #                                    )\n",
        "\n",
        "# bowDiction = cv2.BOWImgDescriptorExtractor(orb2, fbm_matcher)\n",
        "\n",
        "# bowDiction.setVocabulary(dictionary)\n",
        "# print(\"bow dictionary\", np.shape(dictionary))"
      ],
      "execution_count": 0,
      "outputs": []
    },
    {
      "cell_type": "markdown",
      "metadata": {
        "id": "JT0b5hiYodsH",
        "colab_type": "text"
      },
      "source": [
        "On observe ce que donne le tracé d'histogramme pour quelques images."
      ]
    },
    {
      "cell_type": "code",
      "metadata": {
        "id": "1u1CqcK6TP3J",
        "colab_type": "code",
        "colab": {}
      },
      "source": [
        "\n",
        "# neigh = NearestNeighbors(n_neighbors=1)\n",
        "# neigh.fit(dictionary)\n",
        "\n",
        "# for file in X_train[:5]:\n",
        "#   img = cv2.imread(str_dir_preprocessed + file)\n",
        "#   # find the keypoints and compute the descriptors with ORB\n",
        "#   kp, des  = orb2.detectAndCompute(img,None)\n",
        "# #   des = np.float32(des)\n",
        "#   resultat = neigh.kneighbors(des, return_distance=False)\n",
        "#   # On trace la distributions des dimensions d'images\n",
        "#   plt.figure(figsize=(12,4))\n",
        "#   plt.subplot(121)\n",
        "#   plt.axis('off')\n",
        "#   plt.grid(b=None)\n",
        "#   plt.imshow(img),plt.title(file)\n",
        "#   plt.subplot(122)\n",
        "#   plt.hist(resultat, bins=50)\n",
        "# #   plt.title('bow')\n",
        "\n",
        "#   plt.show()\n",
        "  \n",
        "#   resultat = resultat.flatten()"
      ],
      "execution_count": 0,
      "outputs": []
    },
    {
      "cell_type": "code",
      "metadata": {
        "id": "EYrmQ7bDUBg0",
        "colab_type": "code",
        "colab": {}
      },
      "source": [
        ""
      ],
      "execution_count": 0,
      "outputs": []
    },
    {
      "cell_type": "code",
      "metadata": {
        "id": "_bxggDLP6gOr",
        "colab_type": "code",
        "colab": {}
      },
      "source": [
        "def count_bovw(histo, dictionarySize):\n",
        "  X_count = [0] * dictionarySize\n",
        "  for i in histo:\n",
        "    X_count[i] += 1\n",
        "  return X_count"
      ],
      "execution_count": 0,
      "outputs": []
    },
    {
      "cell_type": "code",
      "metadata": {
        "id": "nWymYGxs7EXh",
        "colab_type": "code",
        "colab": {}
      },
      "source": [
        "def hist_build(knn_model, X, orb, dict_size):\n",
        "  \"\"\"\n",
        "  Fonction qui créée l'histogramme de chaque image\n",
        "  \n",
        "  renvoie: le bag of words des images\n",
        "  \"\"\"\n",
        "\n",
        "  X_count = []\n",
        "\n",
        "  for item in X:\n",
        "    img = cv2.imread(str_dir_preprocessed + item.split('/')[-1])\n",
        "    # find the keypoints and compute the descriptors with ORB\n",
        "    kp, des  = orb.detectAndCompute(img,None)\n",
        "    hist = knn_model.kneighbors(des, return_distance=False)\n",
        "\n",
        "    X_count.append(count_bovw(hist.flatten(), dict_size))\n",
        "  return X_count"
      ],
      "execution_count": 0,
      "outputs": []
    },
    {
      "cell_type": "code",
      "metadata": {
        "id": "t8nnz-Iwta5u",
        "colab_type": "code",
        "colab": {}
      },
      "source": [
        ""
      ],
      "execution_count": 0,
      "outputs": []
    },
    {
      "cell_type": "markdown",
      "metadata": {
        "id": "fjFAbElxWqGI",
        "colab_type": "text"
      },
      "source": [
        "### 3.Classification supervisée\n",
        "on va entraîner un algorithme d'apprentissage supervisé sur les bag-of-features construits à l'étape 2.\n",
        "Les algorithmes que l'on peut utiliser ont déjà été expliqués en détails dans d'autres cours. Si vous n'êtes pas familiers avec les techniques d'apprentissage supervisé, je vous encourage très fortement à lire les chapitres suivants, classés dans l'ordre croissant de difficulté :\n",
        "* k plus proches voisins (k-NN) (https://openclassrooms.com/courses/initiez-vous-au-machine-learning/tp-entrainez-le-modele-des-k-plus-proches-voisins-k-nn)\n",
        "* Régression logistique(https://openclassrooms.com/courses/entrainez-un-modele-predictif-lineaire/predisez-lineairement-la-probabilite-de-lappartenance-dun-point-a-une-classe)\n",
        "* SVM (2 classes)(https://openclassrooms.com/courses/entrainez-un-modele-predictif-lineaire/maximisez-la-marge-de-separation-entre-vos-classes)\n",
        "* SVM (multi-classes)(https://openclassrooms.com/courses/entrainez-un-modele-predictif-lineaire/classifiez-vos-donnees-en-plus-de-deux-classes)\n",
        "* SVM à noyau(https://openclassrooms.com/courses/utilisez-des-modeles-supervises-non-lineaires/classifiez-vos-donnees-avec-une-svm-a-noyau)\n",
        "\n"
      ]
    },
    {
      "cell_type": "markdown",
      "metadata": {
        "id": "-b5N8fOLrNPU",
        "colab_type": "text"
      },
      "source": [
        "#### Construction des features"
      ]
    },
    {
      "cell_type": "code",
      "metadata": {
        "id": "Ps2qZKOarI0C",
        "colab_type": "code",
        "colab": {}
      },
      "source": [
        "# from sklearn.feature_extraction.text import CountVectorizer"
      ],
      "execution_count": 0,
      "outputs": []
    },
    {
      "cell_type": "code",
      "metadata": {
        "id": "hG5SeP8EO49r",
        "colab_type": "code",
        "colab": {}
      },
      "source": [
        "# # Initialize the \"CountVectorizer\" object\n",
        "# vectorizer = CountVectorizer(analyzer = \"word\",\n",
        "#                              tokenizer = None,\n",
        "#                              preprocessor = None,\n",
        "#                              stop_words = None,\n",
        "#                              max_df = 0.5,\n",
        "#                              max_features = 1000\n",
        "#                             ) "
      ],
      "execution_count": 0,
      "outputs": []
    },
    {
      "cell_type": "code",
      "metadata": {
        "id": "mBhcewyNPBRd",
        "colab_type": "code",
        "colab": {}
      },
      "source": [
        "# # fit_transform() does two functions: First, it fits the model\n",
        "# # and learns the vocabulary; second, it transforms our training data\n",
        "# # into feature vectors. The input to fit_transform should be a list of \n",
        "# # strings.\n",
        "# X_train_count = vectorizer.fit_transform(X_train)"
      ],
      "execution_count": 0,
      "outputs": []
    },
    {
      "cell_type": "code",
      "metadata": {
        "id": "q5QMujbsPBJb",
        "colab_type": "code",
        "colab": {}
      },
      "source": [
        "# # Numpy arrays are easy to work with, so convert the result to an array\n",
        "# X_train_count = X_train_count.toarray()"
      ],
      "execution_count": 0,
      "outputs": []
    },
    {
      "cell_type": "code",
      "metadata": {
        "id": "8Q91rbgKAtl0",
        "colab_type": "code",
        "colab": {}
      },
      "source": [
        ""
      ],
      "execution_count": 0,
      "outputs": []
    },
    {
      "cell_type": "code",
      "metadata": {
        "id": "0C8cOhi7Ato8",
        "colab_type": "code",
        "colab": {}
      },
      "source": [
        ""
      ],
      "execution_count": 0,
      "outputs": []
    },
    {
      "cell_type": "code",
      "metadata": {
        "id": "zBE9WAmH1G8V",
        "colab_type": "code",
        "colab": {}
      },
      "source": [
        ""
      ],
      "execution_count": 0,
      "outputs": []
    },
    {
      "cell_type": "code",
      "metadata": {
        "id": "lz4OaQYwvS1q",
        "colab_type": "code",
        "colab": {}
      },
      "source": [
        "# X_test_count = vectorizer.transform(X_test)"
      ],
      "execution_count": 0,
      "outputs": []
    },
    {
      "cell_type": "code",
      "metadata": {
        "id": "F2r3K3wOnuUl",
        "colab_type": "code",
        "colab": {}
      },
      "source": [
        "# X_test_doclen = X_test_count.toarray()"
      ],
      "execution_count": 0,
      "outputs": []
    },
    {
      "cell_type": "code",
      "metadata": {
        "id": "qDLfsiIAAu1G",
        "colab_type": "code",
        "colab": {}
      },
      "source": [
        ""
      ],
      "execution_count": 0,
      "outputs": []
    },
    {
      "cell_type": "code",
      "metadata": {
        "id": "OVMtAfbwFZHD",
        "colab_type": "code",
        "colab": {}
      },
      "source": [
        "\n",
        "# for file in X_train:\n",
        "#   img = cv2.imread(str_dir_preprocessed + file)\n",
        "\n",
        "#   # find the keypoints and compute the descriptors with ORB\n",
        "#   kp_bow  = orb2.detect(img,None)\n",
        "#   des_bow = orb2.compute(img,kp_bow)\n",
        "#   print(des_bow)\n",
        "  \n",
        "#   bowDiction.compute(img, kp_bow, des_bow, )\n",
        "  \n",
        "# print(des_bow)\n",
        "# print(np.shape(des_bow))\n",
        "# #   bow.add(np.float32(des))"
      ],
      "execution_count": 0,
      "outputs": []
    },
    {
      "cell_type": "code",
      "metadata": {
        "id": "meXJ7H9yaF7k",
        "colab_type": "code",
        "colab": {}
      },
      "source": [
        "# bowDiction"
      ],
      "execution_count": 0,
      "outputs": []
    },
    {
      "cell_type": "markdown",
      "metadata": {
        "id": "ZDhTAXkGDxPd",
        "colab_type": "text"
      },
      "source": [
        "#### Entrainement du modèle"
      ]
    },
    {
      "cell_type": "code",
      "metadata": {
        "id": "c2bv9fQhqvY6",
        "colab_type": "code",
        "colab": {}
      },
      "source": [
        "def model_fct(X_train_count, y_train, param_grid):\n",
        "  clf = GridSearchCV(svm.SVC(kernel='rbf', class_weight='balanced'),\n",
        "                     param_grid, cv=5, iid=False)\n",
        "  clf = clf.fit(X_train_count, y_train)\n",
        "  return clf"
      ],
      "execution_count": 0,
      "outputs": []
    },
    {
      "cell_type": "markdown",
      "metadata": {
        "id": "eBAJWuCpD3h0",
        "colab_type": "text"
      },
      "source": [
        "#### Prédiction et mesure de performance"
      ]
    },
    {
      "cell_type": "code",
      "metadata": {
        "id": "D-p09glQENcw",
        "colab_type": "code",
        "colab": {}
      },
      "source": [
        "def pred_perf(clf, X_test_count, y_test, target_names):\n",
        "  ''' Quantitative evaluation of the model quality on the test set\n",
        "  ''' \n",
        "  print(\"Prédiction des races de chien sur le jeu de test\")\n",
        "  y_pred = clf.predict(X_test_count)\n",
        "\n",
        "  print(\"Accuracy: {:2.1f} %.\".format(100*accuracy_score(np.array(y_test), y_pred)))\n",
        "\n",
        "  print(classification_report(y_test, y_pred, target_names=target_names))\n",
        "  \n",
        "  return y_pred"
      ],
      "execution_count": 0,
      "outputs": []
    },
    {
      "cell_type": "markdown",
      "metadata": {
        "id": "uLXz22EJW1us",
        "colab_type": "text"
      },
      "source": [
        "#### Matrice de confusion"
      ]
    },
    {
      "cell_type": "code",
      "metadata": {
        "id": "AIztEDcJW18U",
        "colab_type": "code",
        "colab": {}
      },
      "source": [
        "\n",
        "# print(confusion_matrix(np.array(y_test), y_pred, labels=range(len(target_names[:3]))))"
      ],
      "execution_count": 0,
      "outputs": []
    },
    {
      "cell_type": "code",
      "metadata": {
        "id": "gTq0azBn9Rxc",
        "colab_type": "code",
        "colab": {}
      },
      "source": [
        "# def conf_mat(y_test, y_pred):\n",
        "#   conf_mat = confusion_matrix(np.array(y_test), y_pred)\n",
        "#   norm_conf = []\n",
        "#   for i in conf_mat:\n",
        "#       a = 0\n",
        "#       tmp_arr = []\n",
        "#       a = sum(i, 0)\n",
        "#       for j in i:\n",
        "#           tmp_arr.append(float(j)/float(a))\n",
        "#       norm_conf.append(tmp_arr)\n",
        "\n",
        "#   fig = plt.figure()\n",
        "#   plt.clf()\n",
        "#   ax = fig.add_subplot(111)\n",
        "#   ax.set_aspect(1)\n",
        "#   res = ax.imshow(np.array(norm_conf), cmap=plt.cm.jet, \n",
        "#                   interpolation='nearest')\n",
        "\n",
        "#   width, height = conf_mat.shape\n",
        "\n",
        "#   for x in xrange(width):\n",
        "#       for y in xrange(height):\n",
        "#         pass"
      ],
      "execution_count": 0,
      "outputs": []
    },
    {
      "cell_type": "code",
      "metadata": {
        "id": "bQn8Eg4TcZGl",
        "colab_type": "code",
        "colab": {}
      },
      "source": [
        "def plot_confusion_matrix(y_true, y_pred, classes,\n",
        "                          normalize=False,\n",
        "                          title=None,\n",
        "                          cmap=plt.cm.Blues):\n",
        "    \"\"\"\n",
        "    This function prints and plots the confusion matrix.\n",
        "    Normalization can be applied by setting `normalize=True`.\n",
        "    \"\"\"\n",
        "  \n",
        "    if not title:\n",
        "        if normalize:\n",
        "            title = 'Normalized confusion matrix'\n",
        "        else:\n",
        "            title = 'Confusion matrix, without normalization'\n",
        "\n",
        "    # Compute confusion matrix\n",
        "    cm = confusion_matrix(y_true, y_pred)\n",
        "    # Only use the labels that appear in the data\n",
        "#     classes = unique_labels(y_true, y_pred)\n",
        "#     classes = classes[unique_labels(y_true, y_pred)]\n",
        "    if normalize:\n",
        "        cm = cm.astype('float') / cm.sum(axis=1)[:, np.newaxis]\n",
        "        print(\"Normalized confusion matrix\")\n",
        "    else:\n",
        "        print('Confusion matrix, without normalization')\n",
        "\n",
        "    fig, ax = plt.subplots(figsize=(12, 12))\n",
        "    im = ax.imshow(cm, interpolation='nearest', cmap=cmap)\n",
        "    ax.figure.colorbar(im, ax=ax)\n",
        "    # We want to show all ticks...\n",
        "    ax.set(xticks=np.arange(cm.shape[1]),\n",
        "           yticks=np.arange(cm.shape[0]),\n",
        "           # ... and label them with the respective list entries\n",
        "           xticklabels=classes, yticklabels=classes,\n",
        "           title=title,\n",
        "           ylabel='True label',\n",
        "           xlabel='Predicted label')\n",
        "\n",
        "    # Rotate the tick labels and set their alignment.\n",
        "    plt.setp(ax.get_xticklabels(), rotation=45, ha=\"right\",\n",
        "             rotation_mode=\"anchor\")\n",
        "\n",
        "    # Loop over data dimensions and create text annotations.\n",
        "#     fmt = '.2f' if normalize else 'd'\n",
        "#     thresh = cm.max() / 2.\n",
        "#     for i in range(cm.shape[0]):\n",
        "#         for j in range(cm.shape[1]):\n",
        "#             ax.text(j, i, format(cm[i, j], fmt),\n",
        "#                     ha=\"center\", va=\"center\",\n",
        "#                     color=\"white\" if cm[i, j] > thresh else \"black\")\n",
        "    fig.tight_layout()\n",
        "    return ax"
      ],
      "execution_count": 0,
      "outputs": []
    },
    {
      "cell_type": "markdown",
      "metadata": {
        "id": "J4AXt1VT_b_v",
        "colab_type": "text"
      },
      "source": [
        "### CNN"
      ]
    },
    {
      "cell_type": "code",
      "metadata": {
        "id": "kr2Jopiq-xra",
        "colab_type": "code",
        "colab": {}
      },
      "source": [
        "def init_cnn(nb, img_size):\n",
        "  \"\"\"\n",
        "  This function defines the CNN model coorespondingg to VGG16 and nb_races classes to predict\n",
        "  returns model\"\"\"\n",
        "    # Charger VGG-16 pré-entraîné sur ImageNet et sans les couches fully-connected\n",
        "  base_model = VGG16(weights=\"imagenet\",\n",
        "                     include_top=False,\n",
        "                     input_shape=img_size)\n",
        "  \n",
        "  add_model = Sequential()\n",
        "  add_model.add(Flatten(input_shape=base_model.output_shape[1:]))\n",
        "\n",
        "  if nb < 20:\n",
        "    add_model.add(Dense(128, activation='relu'))\n",
        "    add_model.add(Dense(64, activation='relu'))\n",
        "  else: \n",
        "    add_model.add(Dense(256, activation='relu'))\n",
        "    add_model.add(Dense(128, activation='relu'))\n",
        "\n",
        "  add_model.add(Dense(nb, activation='softmax'))\n",
        "\n",
        "  model = Model(inputs=base_model.input, outputs=add_model(base_model.output))\n",
        "  model.compile(loss='categorical_crossentropy', \n",
        "                optimizer=optimizers.SGD(lr=5e-5, momentum=0.9),\n",
        "                metrics=['categorical_accuracy'])\n",
        "\n",
        "  return model"
      ],
      "execution_count": 0,
      "outputs": []
    },
    {
      "cell_type": "code",
      "metadata": {
        "id": "sAK3ht_ibVks",
        "colab_type": "code",
        "colab": {}
      },
      "source": [
        "def cnn_features(X, y, img_size):\n",
        "  X_feat = []\n",
        "  \n",
        "  for file in X:\n",
        "    img = cv2.imread(file)\n",
        "  \n",
        "    X_feat.append(cv2.resize(img, img_size))\n",
        "  \n",
        "  X_feat = np.array(X_feat)\n",
        "  X_feat = X_feat.astype('float32')\n",
        "  X_feat /= 255\n",
        "\n",
        "  y_feat = OneHotEncoder(handle_unknown='ignore').fit_transform(np.asarray(y).reshape(-1, 1)).toarray()\n",
        "  y_feat = np.array(y_feat)\n",
        "  \n",
        "  return X_feat, y_feat"
      ],
      "execution_count": 0,
      "outputs": []
    },
    {
      "cell_type": "code",
      "metadata": {
        "id": "RJYeV2zw1uMT",
        "colab_type": "code",
        "colab": {}
      },
      "source": [
        "from sklearn.preprocessing import OneHotEncoder"
      ],
      "execution_count": 0,
      "outputs": []
    },
    {
      "cell_type": "code",
      "metadata": {
        "id": "GrxeKeASKU-e",
        "colab_type": "code",
        "colab": {}
      },
      "source": [
        ""
      ],
      "execution_count": 0,
      "outputs": []
    },
    {
      "cell_type": "code",
      "metadata": {
        "id": "jbMcQkThccCS",
        "colab_type": "code",
        "colab": {}
      },
      "source": [
        ""
      ],
      "execution_count": 0,
      "outputs": []
    },
    {
      "cell_type": "code",
      "metadata": {
        "id": "StWYwii1AAdc",
        "colab_type": "code",
        "colab": {}
      },
      "source": [
        "def train_cnn(model, X_train, X_val, y_train, y_val, batch_size):\n",
        "  epochs = 100\n",
        "\n",
        "  train_datagen = ImageDataGenerator(rotation_range=30,\n",
        "                                     width_shift_range=0.1,\n",
        "                                     height_shift_range=0.1,\n",
        "                                     horizontal_flip=True)\n",
        "  train_datagen.fit(X_train)\n",
        "\n",
        "\n",
        "  history = model.fit_generator(train_datagen.flow(X_train,\n",
        "                                                   y_train,\n",
        "                                                   batch_size=batch_size),\n",
        "                                steps_per_epoch=X_train.shape[0] // batch_size,\n",
        "                                epochs=epochs,\n",
        "                                validation_data=(X_val, y_val),\n",
        "                                callbacks=[ModelCheckpoint('VGG16-transferlearning.model',\n",
        "                                                           monitor='val_categorical_accuracy',\n",
        "                                                           save_best_only=True),\n",
        "#                                            EarlyStopping(monitor='val_categorical_accuracy',\n",
        "#                                                          min_delta=0.001,\n",
        "#                                                          patience=5,\n",
        "#                                                          verbose=0,\n",
        "#                                                          mode='auto',\n",
        "#                                                          baseline=None,\n",
        "#                                                          restore_best_weights=True)\n",
        "                                          ]\n",
        "                               )\n",
        "  return history, model"
      ],
      "execution_count": 0,
      "outputs": []
    },
    {
      "cell_type": "code",
      "metadata": {
        "id": "r3TkosmjAmtS",
        "colab_type": "code",
        "colab": {}
      },
      "source": [
        "def plot_hist(history):\n",
        "  plt.plot(history.history['categorical_accuracy'])\n",
        "  plt.plot(history.history['val_categorical_accuracy'])\n",
        "  plt.title('model accuracy')\n",
        "  plt.ylabel('accuracy')\n",
        "  plt.xlabel('epoch')\n",
        "  plt.legend(['train', 'test'], loc='upper left')\n",
        "  plt.show()\n",
        "  # summarize history for loss\n",
        "  plt.plot(history.history['loss'])\n",
        "  plt.plot(history.history['val_loss'])\n",
        "  plt.title('model loss')\n",
        "  plt.ylabel('loss')\n",
        "  plt.xlabel('epoch')\n",
        "  plt.legend(['train', 'test'], loc='upper left')\n",
        "  plt.show()"
      ],
      "execution_count": 0,
      "outputs": []
    },
    {
      "cell_type": "code",
      "metadata": {
        "id": "5t0NnL7dCaAZ",
        "colab_type": "code",
        "outputId": "ada1a636-96b8-450f-85c5-2f9ad1a4193e",
        "colab": {
          "base_uri": "https://localhost:8080/",
          "height": 1000
        }
      },
      "source": [
        "# nb_races = [3, 5, 10, 20, 40, 60]\n",
        "nb_races = [60]\n",
        "\n",
        "# hyperparamètres\n",
        "filt_sizes = [1, 3, 5]\n",
        "dict_sizes = [25, 50, 100]\n",
        "param_grid = {'C': [1e2, 1e3, 5e3, 1e4, 5e4, 1e5],\n",
        "              'gamma': [0.0001, 0.0005, 0.001, 0.005, 0.01, 0.1], }\n",
        "\n",
        "\n",
        "for nb in nb_races:\n",
        "  print(\"{} races\".format(nb))\n",
        "  \n",
        "  if nb < 20:\n",
        "    std_size=(500,375)\n",
        "    std_size_cnn=(375,500,3)\n",
        "    batch_size = 32\n",
        "  else: \n",
        "    std_size=(240,180)\n",
        "    std_size_cnn=(180,240,3)\n",
        "    batch_size = 128\n",
        "  \n",
        "  print(\"Initialisation mémoires\")\n",
        "  init_mem()\n",
        "\n",
        "  print(r\"Train/Test split\")\n",
        "  X_train, X_test, y_train, y_test, X_train_cnn, X_val_cnn, y_train_cnn, y_val_cnn, target_names = train_test_function(nb)\n",
        "  \n",
        "  # Approche classique\n",
        "  print(\"\\n  Approche classique:\")\n",
        "  for filt_siz in filt_sizes:\n",
        "    print(\"    filtre taille {}\".format(filt_siz))\n",
        "    print(\"      preprocess X_train\")\n",
        "    preprocess_fct(X_train, filt_siz)\n",
        "    print(\"      preprocess X_test\")\n",
        "    preprocess_fct(X_test, filt_siz)\n",
        "    for dict_size in dict_sizes:\n",
        "      print(\"       creation dict. taille {}\".format(dict_size))\n",
        "      bow_dict = create_dict(X_train, dict_size)\n",
        "      \n",
        "      orb2 = cv2.ORB_create()\n",
        "      \n",
        "      neigh = NearestNeighbors(n_neighbors=1)      \n",
        "      print(\"       entrainement knn\")\n",
        "      neigh.fit(bow_dict)\n",
        "      \n",
        "      \n",
        "      print(\"       construction histo x_train\")\n",
        "      X_train_count = hist_build(neigh, X_train, orb2, dict_size)\n",
        "      print(\"       construction histo x_test\")\n",
        "      X_test_count = hist_build(neigh, X_test, orb2, dict_size)\n",
        "      \n",
        "      print(\"       entrainement classifieur\")\n",
        "      classif = model_fct(X_train_count, y_train, param_grid)\n",
        "      \n",
        "      print(\"\\n{} races, filtre de dimension {}, dictionnaire de taille {}.\".format(nb, filt_siz, dict_size))\n",
        "      print(classif.best_estimator_)\n",
        "      \n",
        "      y_pred = pred_perf(classif, X_test_count, y_test, target_names)\n",
        "      \n",
        "      # Plot normalized confusion matrix\n",
        "      plot_confusion_matrix(y_test, y_pred, classes=target_names[:nb], normalize=True,\n",
        "                      title='Matrice de confusion (normalisée)')\n",
        "\n",
        "      plt.show()\n",
        "  del X_train\n",
        "  del X_train_count\n",
        "  del X_test_count\n",
        "  del y_train\n",
        "  del y_pred\n",
        "  del neigh\n",
        "  del classif\n",
        "  del orb2\n",
        "  del bow_dict\n",
        "  gc.collect()\n",
        "      \n",
        "  # CNN\n",
        "  print(\"\\n  CNN:\")\n",
        "  \n",
        "  cnn_model = init_cnn(nb, std_size_cnn)\n",
        "#   cnn_model.summary()\n",
        "  \n",
        "  X_train_cnn, y_train_cnn = cnn_features(X_train_cnn, y_train_cnn, std_size)\n",
        "  X_val_cnn, y_val_cnn = cnn_features(X_val_cnn, y_val_cnn, std_size)\n",
        "  X_test_cnn, y_test_cnn = cnn_features(X_test, y_test, std_size)\n",
        "  \n",
        "  hist, model = train_cnn(cnn_model, X_train_cnn, X_val_cnn, y_train_cnn, y_val_cnn, batch_size)\n",
        "  plot_hist(hist)\n",
        "  cnn_pred = model.predict(X_test_cnn)\n",
        "  y_pred_cnn = cnn_pred.argmax(axis=-1)\n",
        "  y_test_cnn = y_test_cnn.argmax(axis=-1)\n",
        "  cnn_acc = accuracy_score(y_test_cnn, y_pred_cnn)\n",
        "  print(\"L'accuracy du CNN est de %.2f%%\" % (cnn_acc*100))\n",
        "  \n",
        "  plot_confusion_matrix(y_test_cnn, y_pred_cnn, classes=target_names[:nb], normalize=True,\n",
        "                  title='Matrice de confusion (normalisée)')\n",
        "\n",
        "  plt.show()\n",
        "  \n",
        "# impression du rapport pour évaluer les performances"
      ],
      "execution_count": 0,
      "outputs": [
        {
          "output_type": "stream",
          "text": [
            "60 races\n",
            "Initialisation mémoires\n",
            "Train/Test split\n"
          ],
          "name": "stdout"
        },
        {
          "output_type": "display_data",
          "data": {
            "image/png": "[encoded data removed]",
            "text/plain": [
              "<Figure size 1296x504 with 5 Axes>"
            ]
          },
          "metadata": {
            "tags": []
          }
        },
        {
          "output_type": "stream",
          "text": [
            "\n",
            "  CNN:\n",
            "Epoch 1/100\n",
            "49/49 [==============================] - 222s 5s/step - loss: 4.1816 - categorical_accuracy: 0.0204 - val_loss: 4.1121 - val_categorical_accuracy: 0.0211\n",
            "Epoch 2/100\n",
            "49/49 [==============================] - 172s 4s/step - loss: 4.0965 - categorical_accuracy: 0.0244 - val_loss: 4.0879 - val_categorical_accuracy: 0.0239\n",
            "Epoch 3/100\n",
            "49/49 [==============================] - 172s 4s/step - loss: 4.0810 - categorical_accuracy: 0.0268 - val_loss: 4.0784 - val_categorical_accuracy: 0.0300\n",
            "Epoch 4/100\n",
            "49/49 [==============================] - 172s 4s/step - loss: 4.0703 - categorical_accuracy: 0.0303 - val_loss: 4.0693 - val_categorical_accuracy: 0.0319\n",
            "Epoch 5/100\n",
            "49/49 [==============================] - 172s 4s/step - loss: 4.0628 - categorical_accuracy: 0.0339 - val_loss: 4.0604 - val_categorical_accuracy: 0.0338\n",
            "Epoch 6/100\n",
            "49/49 [==============================] - 172s 4s/step - loss: 4.0529 - categorical_accuracy: 0.0372 - val_loss: 4.0531 - val_categorical_accuracy: 0.0394\n",
            "Epoch 7/100\n",
            "49/49 [==============================] - 172s 4s/step - loss: 4.0421 - categorical_accuracy: 0.0407 - val_loss: 4.0429 - val_categorical_accuracy: 0.0451\n",
            "Epoch 8/100\n",
            "49/49 [==============================] - 172s 4s/step - loss: 4.0338 - categorical_accuracy: 0.0418 - val_loss: 4.0333 - val_categorical_accuracy: 0.0465\n",
            "Epoch 9/100\n",
            "49/49 [==============================] - 172s 4s/step - loss: 4.0190 - categorical_accuracy: 0.0475 - val_loss: 4.0205 - val_categorical_accuracy: 0.0498\n",
            "Epoch 10/100\n",
            "49/49 [==============================] - 172s 4s/step - loss: 3.9979 - categorical_accuracy: 0.0509 - val_loss: 4.0063 - val_categorical_accuracy: 0.0512\n",
            "Epoch 11/100\n",
            "49/49 [==============================] - 172s 4s/step - loss: 3.9868 - categorical_accuracy: 0.0500 - val_loss: 3.9862 - val_categorical_accuracy: 0.0587\n",
            "Epoch 12/100\n",
            "49/49 [==============================] - 172s 4s/step - loss: 3.9648 - categorical_accuracy: 0.0570 - val_loss: 3.9654 - val_categorical_accuracy: 0.0568\n",
            "Epoch 13/100\n",
            "49/49 [==============================] - 172s 4s/step - loss: 3.9383 - categorical_accuracy: 0.0593 - val_loss: 3.9396 - val_categorical_accuracy: 0.0667\n",
            "Epoch 14/100\n",
            "49/49 [==============================] - 172s 4s/step - loss: 3.9026 - categorical_accuracy: 0.0692 - val_loss: 3.9061 - val_categorical_accuracy: 0.0657\n",
            "Epoch 15/100\n",
            "49/49 [==============================] - 172s 4s/step - loss: 3.8841 - categorical_accuracy: 0.0677 - val_loss: 3.8667 - val_categorical_accuracy: 0.0685\n",
            "Epoch 16/100\n",
            "49/49 [==============================] - 172s 4s/step - loss: 3.8365 - categorical_accuracy: 0.0727 - val_loss: 3.8267 - val_categorical_accuracy: 0.0775\n",
            "Epoch 17/100\n",
            "49/49 [==============================] - 172s 4s/step - loss: 3.7929 - categorical_accuracy: 0.0814 - val_loss: 3.7721 - val_categorical_accuracy: 0.0831\n",
            "Epoch 18/100\n",
            "49/49 [==============================] - 172s 4s/step - loss: 3.7444 - categorical_accuracy: 0.0870 - val_loss: 3.7190 - val_categorical_accuracy: 0.0930\n",
            "Epoch 19/100\n",
            "49/49 [==============================] - 172s 4s/step - loss: 3.6907 - categorical_accuracy: 0.0915 - val_loss: 3.6642 - val_categorical_accuracy: 0.1014\n",
            "Epoch 20/100\n",
            "49/49 [==============================] - 172s 4s/step - loss: 3.6113 - categorical_accuracy: 0.1085 - val_loss: 3.5822 - val_categorical_accuracy: 0.1117\n",
            "Epoch 21/100\n",
            "49/49 [==============================] - 172s 4s/step - loss: 3.5348 - categorical_accuracy: 0.1189 - val_loss: 3.5094 - val_categorical_accuracy: 0.1254\n",
            "Epoch 22/100\n",
            "49/49 [==============================] - 172s 4s/step - loss: 3.4633 - categorical_accuracy: 0.1392 - val_loss: 3.4483 - val_categorical_accuracy: 0.1343\n",
            "Epoch 23/100\n",
            "49/49 [==============================] - 172s 4s/step - loss: 3.3765 - categorical_accuracy: 0.1511 - val_loss: 3.3397 - val_categorical_accuracy: 0.1587\n",
            "Epoch 24/100\n",
            "49/49 [==============================] - 172s 4s/step - loss: 3.2844 - categorical_accuracy: 0.1741 - val_loss: 3.2497 - val_categorical_accuracy: 0.1836\n",
            "Epoch 25/100\n",
            "49/49 [==============================] - 173s 4s/step - loss: 3.1948 - categorical_accuracy: 0.1891 - val_loss: 3.1692 - val_categorical_accuracy: 0.2009\n",
            "Epoch 26/100\n",
            "49/49 [==============================] - 172s 4s/step - loss: 3.0671 - categorical_accuracy: 0.2163 - val_loss: 3.1039 - val_categorical_accuracy: 0.2075\n",
            "Epoch 27/100\n",
            "49/49 [==============================] - 172s 4s/step - loss: 2.9788 - categorical_accuracy: 0.2325 - val_loss: 2.9508 - val_categorical_accuracy: 0.2338\n",
            "Epoch 28/100\n",
            "49/49 [==============================] - 172s 4s/step - loss: 2.8871 - categorical_accuracy: 0.2495 - val_loss: 2.8906 - val_categorical_accuracy: 0.2512\n",
            "Epoch 29/100\n",
            "49/49 [==============================] - 172s 4s/step - loss: 2.7566 - categorical_accuracy: 0.2742 - val_loss: 2.7861 - val_categorical_accuracy: 0.2732\n",
            "Epoch 30/100\n",
            "49/49 [==============================] - 173s 4s/step - loss: 2.6778 - categorical_accuracy: 0.2895 - val_loss: 2.7430 - val_categorical_accuracy: 0.2784\n",
            "Epoch 31/100\n",
            "49/49 [==============================] - 173s 4s/step - loss: 2.5780 - categorical_accuracy: 0.3187 - val_loss: 2.6159 - val_categorical_accuracy: 0.3038\n",
            "Epoch 32/100\n",
            "49/49 [==============================] - 173s 4s/step - loss: 2.4789 - categorical_accuracy: 0.3347 - val_loss: 2.5334 - val_categorical_accuracy: 0.3131\n",
            "Epoch 33/100\n",
            "49/49 [==============================] - 174s 4s/step - loss: 2.4185 - categorical_accuracy: 0.3435 - val_loss: 2.4521 - val_categorical_accuracy: 0.3399\n",
            "Epoch 34/100\n",
            "49/49 [==============================] - 173s 4s/step - loss: 2.3191 - categorical_accuracy: 0.3713 - val_loss: 2.4104 - val_categorical_accuracy: 0.3465\n",
            "Epoch 35/100\n",
            "49/49 [==============================] - 173s 4s/step - loss: 2.2487 - categorical_accuracy: 0.3886 - val_loss: 2.3305 - val_categorical_accuracy: 0.3601\n",
            "Epoch 36/100\n",
            "49/49 [==============================] - 173s 4s/step - loss: 2.1907 - categorical_accuracy: 0.3976 - val_loss: 2.3423 - val_categorical_accuracy: 0.3770\n",
            "Epoch 37/100\n",
            "49/49 [==============================] - 173s 4s/step - loss: 2.0969 - categorical_accuracy: 0.4145 - val_loss: 2.2689 - val_categorical_accuracy: 0.3718\n",
            "Epoch 38/100\n",
            "49/49 [==============================] - 172s 4s/step - loss: 2.0794 - categorical_accuracy: 0.4137 - val_loss: 2.2147 - val_categorical_accuracy: 0.3967\n",
            "Epoch 39/100\n",
            "49/49 [==============================] - 173s 4s/step - loss: 2.0185 - categorical_accuracy: 0.4364 - val_loss: 2.1518 - val_categorical_accuracy: 0.4108\n",
            "Epoch 40/100\n",
            "49/49 [==============================] - 173s 4s/step - loss: 1.9388 - categorical_accuracy: 0.4553 - val_loss: 2.1280 - val_categorical_accuracy: 0.4117\n",
            "Epoch 41/100\n",
            "49/49 [==============================] - 173s 4s/step - loss: 1.8864 - categorical_accuracy: 0.4655 - val_loss: 2.0690 - val_categorical_accuracy: 0.4268\n",
            "Epoch 42/100\n",
            "49/49 [==============================] - 173s 4s/step - loss: 1.8594 - categorical_accuracy: 0.4735 - val_loss: 2.0864 - val_categorical_accuracy: 0.4207\n",
            "Epoch 43/100\n",
            "49/49 [==============================] - 173s 4s/step - loss: 1.8074 - categorical_accuracy: 0.4866 - val_loss: 2.0419 - val_categorical_accuracy: 0.4263\n",
            "Epoch 44/100\n",
            "49/49 [==============================] - 172s 4s/step - loss: 1.7505 - categorical_accuracy: 0.5076 - val_loss: 1.9920 - val_categorical_accuracy: 0.4507\n",
            "Epoch 45/100\n",
            "49/49 [==============================] - 172s 4s/step - loss: 1.7189 - categorical_accuracy: 0.5075 - val_loss: 1.9781 - val_categorical_accuracy: 0.4441\n",
            "Epoch 46/100\n",
            "49/49 [==============================] - 173s 4s/step - loss: 1.7002 - categorical_accuracy: 0.5053 - val_loss: 1.9255 - val_categorical_accuracy: 0.4695\n",
            "Epoch 47/100\n",
            "49/49 [==============================] - 172s 4s/step - loss: 1.6446 - categorical_accuracy: 0.5245 - val_loss: 1.9088 - val_categorical_accuracy: 0.4728\n",
            "Epoch 48/100\n",
            "49/49 [==============================] - 172s 4s/step - loss: 1.6204 - categorical_accuracy: 0.5346 - val_loss: 1.9008 - val_categorical_accuracy: 0.4676\n",
            "Epoch 49/100\n",
            "49/49 [==============================] - 172s 4s/step - loss: 1.5850 - categorical_accuracy: 0.5428 - val_loss: 1.8710 - val_categorical_accuracy: 0.4756\n",
            "Epoch 50/100\n",
            "49/49 [==============================] - 172s 4s/step - loss: 1.5244 - categorical_accuracy: 0.5522 - val_loss: 1.8808 - val_categorical_accuracy: 0.4742\n",
            "Epoch 51/100\n",
            "49/49 [==============================] - 173s 4s/step - loss: 1.5115 - categorical_accuracy: 0.5659 - val_loss: 1.8141 - val_categorical_accuracy: 0.4887\n",
            "Epoch 52/100\n",
            "49/49 [==============================] - 173s 4s/step - loss: 1.4710 - categorical_accuracy: 0.5665 - val_loss: 1.8297 - val_categorical_accuracy: 0.4887\n",
            "Epoch 53/100\n",
            "49/49 [==============================] - 173s 4s/step - loss: 1.4539 - categorical_accuracy: 0.5739 - val_loss: 1.8007 - val_categorical_accuracy: 0.4878\n",
            "Epoch 54/100\n",
            "49/49 [==============================] - 173s 4s/step - loss: 1.4284 - categorical_accuracy: 0.5828 - val_loss: 1.8077 - val_categorical_accuracy: 0.5023\n",
            "Epoch 55/100\n",
            "49/49 [==============================] - 173s 4s/step - loss: 1.3803 - categorical_accuracy: 0.5922 - val_loss: 1.7733 - val_categorical_accuracy: 0.5038\n",
            "Epoch 56/100\n",
            "49/49 [==============================] - 173s 4s/step - loss: 1.3642 - categorical_accuracy: 0.5958 - val_loss: 1.7404 - val_categorical_accuracy: 0.5211\n",
            "Epoch 57/100\n",
            "49/49 [==============================] - 173s 4s/step - loss: 1.3436 - categorical_accuracy: 0.6063 - val_loss: 1.7277 - val_categorical_accuracy: 0.5202\n",
            "Epoch 58/100\n",
            "49/49 [==============================] - 173s 4s/step - loss: 1.3280 - categorical_accuracy: 0.6051 - val_loss: 1.7425 - val_categorical_accuracy: 0.5127\n",
            "Epoch 59/100\n",
            "49/49 [==============================] - 173s 4s/step - loss: 1.2877 - categorical_accuracy: 0.6250 - val_loss: 1.7430 - val_categorical_accuracy: 0.5258\n",
            "Epoch 60/100\n",
            "49/49 [==============================] - 173s 4s/step - loss: 1.2801 - categorical_accuracy: 0.6176 - val_loss: 1.7338 - val_categorical_accuracy: 0.5197\n",
            "Epoch 61/100\n",
            "49/49 [==============================] - 173s 4s/step - loss: 1.2558 - categorical_accuracy: 0.6302 - val_loss: 1.6660 - val_categorical_accuracy: 0.5272\n",
            "Epoch 62/100\n",
            "49/49 [==============================] - 173s 4s/step - loss: 1.2176 - categorical_accuracy: 0.6296 - val_loss: 1.6716 - val_categorical_accuracy: 0.5305\n",
            "Epoch 63/100\n",
            "49/49 [==============================] - 173s 4s/step - loss: 1.2331 - categorical_accuracy: 0.6377 - val_loss: 1.6636 - val_categorical_accuracy: 0.5357\n",
            "Epoch 64/100\n",
            "49/49 [==============================] - 173s 4s/step - loss: 1.1835 - categorical_accuracy: 0.6407 - val_loss: 1.6493 - val_categorical_accuracy: 0.5394\n",
            "Epoch 65/100\n",
            "49/49 [==============================] - 173s 4s/step - loss: 1.1502 - categorical_accuracy: 0.6585 - val_loss: 1.6929 - val_categorical_accuracy: 0.5380\n",
            "Epoch 66/100\n",
            "49/49 [==============================] - 173s 4s/step - loss: 1.1447 - categorical_accuracy: 0.6614 - val_loss: 1.7039 - val_categorical_accuracy: 0.5404\n",
            "Epoch 67/100\n",
            "49/49 [==============================] - 173s 4s/step - loss: 1.1100 - categorical_accuracy: 0.6652 - val_loss: 1.6895 - val_categorical_accuracy: 0.5394\n",
            "Epoch 68/100\n",
            "49/49 [==============================] - 173s 4s/step - loss: 1.1027 - categorical_accuracy: 0.6628 - val_loss: 1.6658 - val_categorical_accuracy: 0.5516\n",
            "Epoch 69/100\n",
            "49/49 [==============================] - 172s 4s/step - loss: 1.1114 - categorical_accuracy: 0.6676 - val_loss: 1.6626 - val_categorical_accuracy: 0.5418\n",
            "Epoch 70/100\n",
            "49/49 [==============================] - 173s 4s/step - loss: 1.0520 - categorical_accuracy: 0.6808 - val_loss: 1.6738 - val_categorical_accuracy: 0.5502\n",
            "Epoch 71/100\n",
            "49/49 [==============================] - 173s 4s/step - loss: 1.0751 - categorical_accuracy: 0.6767 - val_loss: 1.6204 - val_categorical_accuracy: 0.5559\n",
            "Epoch 72/100\n",
            "49/49 [==============================] - 173s 4s/step - loss: 1.0225 - categorical_accuracy: 0.6933 - val_loss: 1.6110 - val_categorical_accuracy: 0.5587\n",
            "Epoch 73/100\n",
            "49/49 [==============================] - 173s 4s/step - loss: 1.0120 - categorical_accuracy: 0.7002 - val_loss: 1.6466 - val_categorical_accuracy: 0.5549\n",
            "Epoch 74/100\n",
            "49/49 [==============================] - 173s 4s/step - loss: 0.9947 - categorical_accuracy: 0.7023 - val_loss: 1.6524 - val_categorical_accuracy: 0.5521\n",
            "Epoch 75/100\n",
            "49/49 [==============================] - 173s 4s/step - loss: 0.9936 - categorical_accuracy: 0.7004 - val_loss: 1.6484 - val_categorical_accuracy: 0.5601\n",
            "Epoch 76/100\n",
            "49/49 [==============================] - 173s 4s/step - loss: 0.9745 - categorical_accuracy: 0.7112 - val_loss: 1.6339 - val_categorical_accuracy: 0.5549\n",
            "Epoch 77/100\n",
            "49/49 [==============================] - 173s 4s/step - loss: 0.9685 - categorical_accuracy: 0.7053 - val_loss: 1.6221 - val_categorical_accuracy: 0.5582\n",
            "Epoch 78/100\n",
            "49/49 [==============================] - 173s 4s/step - loss: 0.9332 - categorical_accuracy: 0.7138 - val_loss: 1.6516 - val_categorical_accuracy: 0.5610\n",
            "Epoch 79/100\n",
            "49/49 [==============================] - 173s 4s/step - loss: 0.9194 - categorical_accuracy: 0.7155 - val_loss: 1.6731 - val_categorical_accuracy: 0.5474\n",
            "Epoch 80/100\n",
            "49/49 [==============================] - 173s 4s/step - loss: 0.9425 - categorical_accuracy: 0.7151 - val_loss: 1.6457 - val_categorical_accuracy: 0.5545\n",
            "Epoch 81/100\n",
            "49/49 [==============================] - 173s 4s/step - loss: 0.8893 - categorical_accuracy: 0.7372 - val_loss: 1.6444 - val_categorical_accuracy: 0.5667\n",
            "Epoch 82/100\n",
            "49/49 [==============================] - 173s 4s/step - loss: 0.8652 - categorical_accuracy: 0.7300 - val_loss: 1.6466 - val_categorical_accuracy: 0.5587\n",
            "Epoch 83/100\n",
            "49/49 [==============================] - 173s 4s/step - loss: 0.8849 - categorical_accuracy: 0.7280 - val_loss: 1.6168 - val_categorical_accuracy: 0.5634\n",
            "Epoch 84/100\n",
            "49/49 [==============================] - 172s 4s/step - loss: 0.8410 - categorical_accuracy: 0.7445 - val_loss: 1.6192 - val_categorical_accuracy: 0.5714\n",
            "Epoch 85/100\n",
            "49/49 [==============================] - 173s 4s/step - loss: 0.8471 - categorical_accuracy: 0.7360 - val_loss: 1.6297 - val_categorical_accuracy: 0.5746\n",
            "Epoch 86/100\n",
            "49/49 [==============================] - 173s 4s/step - loss: 0.8443 - categorical_accuracy: 0.7408 - val_loss: 1.6374 - val_categorical_accuracy: 0.5732\n",
            "Epoch 87/100\n",
            "49/49 [==============================] - 173s 4s/step - loss: 0.8180 - categorical_accuracy: 0.7538 - val_loss: 1.6247 - val_categorical_accuracy: 0.5798\n",
            "Epoch 88/100\n",
            "49/49 [==============================] - 173s 4s/step - loss: 0.8195 - categorical_accuracy: 0.7447 - val_loss: 1.6153 - val_categorical_accuracy: 0.5742\n",
            "Epoch 89/100\n",
            "49/49 [==============================] - 173s 4s/step - loss: 0.7647 - categorical_accuracy: 0.7677 - val_loss: 1.6617 - val_categorical_accuracy: 0.5803\n",
            "Epoch 90/100\n",
            "49/49 [==============================] - 173s 4s/step - loss: 0.7778 - categorical_accuracy: 0.7597 - val_loss: 1.6156 - val_categorical_accuracy: 0.5746\n",
            "Epoch 91/100\n",
            "49/49 [==============================] - 173s 4s/step - loss: 0.7823 - categorical_accuracy: 0.7635 - val_loss: 1.6421 - val_categorical_accuracy: 0.5831\n",
            "Epoch 92/100\n",
            "49/49 [==============================] - 173s 4s/step - loss: 0.7764 - categorical_accuracy: 0.7643 - val_loss: 1.6234 - val_categorical_accuracy: 0.5671\n",
            "Epoch 93/100\n",
            "49/49 [==============================] - 173s 4s/step - loss: 0.7400 - categorical_accuracy: 0.7704 - val_loss: 1.6243 - val_categorical_accuracy: 0.5803\n",
            "Epoch 94/100\n",
            "49/49 [==============================] - 173s 4s/step - loss: 0.7408 - categorical_accuracy: 0.7683 - val_loss: 1.6188 - val_categorical_accuracy: 0.5845\n",
            "Epoch 95/100\n",
            "49/49 [==============================] - 173s 4s/step - loss: 0.7217 - categorical_accuracy: 0.7779 - val_loss: 1.6185 - val_categorical_accuracy: 0.5784\n",
            "Epoch 96/100\n",
            "49/49 [==============================] - 173s 4s/step - loss: 0.7222 - categorical_accuracy: 0.7741 - val_loss: 1.6873 - val_categorical_accuracy: 0.5761\n",
            "Epoch 97/100\n",
            "49/49 [==============================] - 173s 4s/step - loss: 0.7215 - categorical_accuracy: 0.7781 - val_loss: 1.7207 - val_categorical_accuracy: 0.5582\n",
            "Epoch 98/100\n",
            "49/49 [==============================] - 173s 4s/step - loss: 0.6886 - categorical_accuracy: 0.7943 - val_loss: 1.6449 - val_categorical_accuracy: 0.5704\n",
            "Epoch 99/100\n",
            "49/49 [==============================] - 173s 4s/step - loss: 0.6726 - categorical_accuracy: 0.7870 - val_loss: 1.6832 - val_categorical_accuracy: 0.5770\n",
            "Epoch 100/100\n",
            "49/49 [==============================] - 173s 4s/step - loss: 0.6687 - categorical_accuracy: 0.7944 - val_loss: 1.6537 - val_categorical_accuracy: 0.5742\n"
          ],
          "name": "stdout"
        },
        {
          "output_type": "display_data",
          "data": {
            "image/png": "[encoded data removed]",
            "text/plain": [
              "<Figure size 432x288 with 1 Axes>"
            ]
          },
          "metadata": {
            "tags": []
          }
        },
        {
          "output_type": "display_data",
          "data": {
            "image/png": "[encoded data removed]",
            "text/plain": [
              "<Figure size 432x288 with 1 Axes>"
            ]
          },
          "metadata": {
            "tags": []
          }
        },
        {
          "output_type": "stream",
          "text": [
            "L'accuracy du CNN est de 58.61%\n",
            "Normalized confusion matrix\n"
          ],
          "name": "stdout"
        },
        {
          "output_type": "display_data",
          "data": {
            "image/png": "[encoded data removed]",
            "text/plain": [
              "<Figure size 864x864 with 2 Axes>"
            ]
          },
          "metadata": {
            "tags": []
          }
        }
      ]
    },
    {
      "cell_type": "code",
      "metadata": {
        "id": "4btj8MzF0pJv",
        "colab_type": "code",
        "colab": {}
      },
      "source": [
        "scores_data = pd.DataFrame(data=[[\"1-25\",3,58.5], [\"1-50\",3,60.2], [\"1-100\",3,61.9],\n",
        "                                 [\"3-25\",3,61.0], [\"3-50\",3,61.0], [\"3-100\",3,61.0],\n",
        "                                 [\"5-25\",3,69.5], [\"5-50\",3,63.6], [\"5-100\",3,66.1],\n",
        "                                 [\"1-25\",5,39.8], [\"1-50\",5,37.7], [\"1-100\",5,46.1],\n",
        "                                 [\"3-25\",5,40.3], [\"3-50\",5,44.0], [\"3-100\",5,41.9],\n",
        "                                 [\"5-25\",5,37.2], [\"5-50\",5,38.7], [\"5-100\",5,46.6],\n",
        "                                 [\"1-25\",10,25.0], [\"1-50\",10,25.3], [\"1-100\",10,28.1],\n",
        "                                 [\"3-25\",10,22.7], [\"3-50\",10,31.5], [\"3-100\",10,29.7],\n",
        "                                 [\"5-25\",10,25.0], [\"5-50\",10,27.9], [\"5-100\",10,28.4],\n",
        "                                 [\"1-25\",20,14.3], [\"1-50\",20,16.6], [\"1-100\",20,17.1],\n",
        "                                 [\"3-25\",20,15.8], [\"3-50\",20,16.4], [\"3-100\",20,18.6],\n",
        "                                 [\"5-25\",20,15.4], [\"5-50\",20,15.8], [\"5-100\",20,16.2],\n",
        "                                 [\"1-25\",40,7.7], [\"1-50\",40,9.5], [\"1-100\",40,9.3],\n",
        "                                 [\"3-25\",40,8.1], [\"3-50\",40,9.0], [\"3-100\",40,9.3],\n",
        "                                 [\"5-25\",40,7.0], [\"5-50\",40,9.3], [\"5-100\",40,10.0],\n",
        "                                 [\"1-25\",60,4.9], [\"1-50\",60,6.5], [\"1-100\",60,6.9],\n",
        "                                 [\"3-25\",60,5.2], [\"3-50\",60,7.0], [\"3-100\",60,6.2],\n",
        "                                 [\"5-25\",60,5.5], [\"5-50\",60,5.8], [\"5-100\",60,7.0],\n",
        "                                 [\"CNN\",3,97.46],\n",
        "                                 [\"CNN\",5,82.72],\n",
        "                                 [\"CNN\",10,80.99],\n",
        "                                 [\"CNN\",20,75.79],\n",
        "                                 [\"CNN\",40,69.16],\n",
        "                                 [\"CNN\",60,58.61],\n",
        "                                ],\n",
        "                           columns=[\"params\", \"nb_races\", \"score\"]\n",
        "                          )"
      ],
      "execution_count": 0,
      "outputs": []
    },
    {
      "cell_type": "code",
      "metadata": {
        "id": "sJ-71-Uj0pMr",
        "colab_type": "code",
        "outputId": "6c35d71b-6f30-41e6-e018-f3cd8f21a4b4",
        "colab": {
          "base_uri": "https://localhost:8080/",
          "height": 365
        }
      },
      "source": [
        "\n",
        "sns.catplot(x=\"nb_races\", y=\"score\", hue=\"params\", kind=\"point\", data=scores_data);"
      ],
      "execution_count": 0,
      "outputs": [
        {
          "output_type": "display_data",
          "data": {
            "image/png": "[encoded data removed]",
            "text/plain": [
              "<Figure size 431.6x360 with 1 Axes>"
            ]
          },
          "metadata": {
            "tags": []
          }
        }
      ]
    },
    {
      "cell_type": "code",
      "metadata": {
        "id": "9nEmbNPgL9en",
        "colab_type": "code",
        "outputId": "a031e53b-f77e-4366-8a24-dfff3819d002",
        "colab": {
          "base_uri": "https://localhost:8080/",
          "height": 365
        }
      },
      "source": [
        "sns.catplot(x=\"params\", y=\"score\", hue=\"nb_races\", kind=\"point\", data=scores_data);"
      ],
      "execution_count": 0,
      "outputs": [
        {
          "output_type": "display_data",
          "data": {
            "image/png": "[encoded data removed]",
            "text/plain": [
              "<Figure size 414.8x360 with 1 Axes>"
            ]
          },
          "metadata": {
            "tags": []
          }
        }
      ]
    }
  ]
}